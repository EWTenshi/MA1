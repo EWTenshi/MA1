{
  "nbformat": 4,
  "nbformat_minor": 0,
  "metadata": {
    "colab": {
      "provenance": [],
      "authorship_tag": "ABX9TyO2Z8DDadRfF+0/jTjU6RCg",
      "include_colab_link": true
    },
    "kernelspec": {
      "name": "python3",
      "display_name": "Python 3"
    },
    "language_info": {
      "name": "python"
    }
  },
  "cells": [
    {
      "cell_type": "markdown",
      "metadata": {
        "id": "view-in-github",
        "colab_type": "text"
      },
      "source": [
        "<a href=\"https://colab.research.google.com/github/EWTenshi/MA1/blob/main/Taller_1_Practica_de_escritura.ipynb\" target=\"_parent\"><img src=\"https://colab.research.google.com/assets/colab-badge.svg\" alt=\"Open In Colab\"/></a>"
      ]
    },
    {
      "cell_type": "markdown",
      "source": [
        "Jeronimo Angel Castillo - A00405323\n"
      ],
      "metadata": {
        "id": "lzDjYkUXKjSu"
      }
    },
    {
      "cell_type": "markdown",
      "source": [
        "1.\n",
        "$$A=\\pi rg$$  $$r=\\frac{A}{2\\pi g}$$\n",
        "2.\n",
        "$$v=\\frac{A_b h}{3}$$  $$h=\\frac{3v}{A_b}$$\n",
        "3.\n",
        "$$v=\\frac{4}{3} \\pi r^3$$  $$r^3=\\frac{3v}{4\\pi}$$\n",
        "4.\n",
        "$$A=\\frac{B+b}{2}h$$  $$h=\\frac{2A}{B+b}$$\n",
        "5.\n",
        "$$i=\\frac{q}{t}$$  $$t=\\frac{q}{i}$$\n",
        "6.\n",
        "$$I=\\frac{V}{R}$$   $$R=\\frac{V}{I}$$\n",
        "7.\n",
        "$$E=\\frac{V^2}{R}t$$ $$t=\\frac{ER}{V^2}$$\n",
        "8.\n",
        "$$\\frac{1}{R}=\\frac{1}{R_1}\\frac{1}{R_2}$$  $$R=R_1 * R_2$$\n",
        "9.\n",
        "$$\\frac{P_0 V_0}{T_0}=\\frac{P_f V_f}{T_f}$$\n",
        "$$T_f=\\frac{P_fV_f*V_0}{P_0V_0}$$\n",
        "10.\n",
        "$$I=\\frac{V_A-V_B}{R}$$ $$V_B=V_A-IR$$"
      ],
      "metadata": {
        "id": "iZ0zoIdHKrLZ"
      }
    },
    {
      "cell_type": "code",
      "execution_count": 6,
      "metadata": {
        "colab": {
          "base_uri": "https://localhost:8080/"
        },
        "id": "zIpqRYIvDOsR",
        "outputId": "6d82d26e-319d-4b79-c242-fa4efdb24a8a"
      },
      "outputs": [
        {
          "output_type": "execute_result",
          "data": {
            "text/plain": [
              "64"
            ]
          },
          "metadata": {},
          "execution_count": 6
        }
      ],
      "source": [
        "(3 * (-5 + 10 + (-5)) - 2 * (-2 + (-4) + 10))**2\n"
      ]
    },
    {
      "cell_type": "code",
      "source": [
        "45 + (3 * (2 + 8) - 8/4) + 10 - 83\n"
      ],
      "metadata": {
        "colab": {
          "base_uri": "https://localhost:8080/"
        },
        "id": "4DLj-2CMD0qK",
        "outputId": "eca169cd-964c-4483-a1ad-fb56bb32010c"
      },
      "execution_count": 9,
      "outputs": [
        {
          "output_type": "execute_result",
          "data": {
            "text/plain": [
              "0.0"
            ]
          },
          "metadata": {},
          "execution_count": 9
        }
      ]
    },
    {
      "cell_type": "code",
      "source": [
        "((-4 + 7)**2 - 10) * (-4) - 7 - 3\n"
      ],
      "metadata": {
        "colab": {
          "base_uri": "https://localhost:8080/"
        },
        "id": "78Y_kQ5AEQbm",
        "outputId": "55b69ef7-36f5-4286-d19e-86187a0a672e"
      },
      "execution_count": 13,
      "outputs": [
        {
          "output_type": "execute_result",
          "data": {
            "text/plain": [
              "-6"
            ]
          },
          "metadata": {},
          "execution_count": 13
        }
      ]
    },
    {
      "cell_type": "code",
      "source": [
        "1/5 * ((1/2)**2 + (3/4)**2) + 10/25 * ((1/2)**2 + (3/4)**2) + 8/40 * ((1/2)**2 + (3/4)**2)"
      ],
      "metadata": {
        "colab": {
          "base_uri": "https://localhost:8080/"
        },
        "id": "l_ayKeQ1Ej7X",
        "outputId": "751b9236-9367-4961-baac-ec977ef4b964"
      },
      "execution_count": 15,
      "outputs": [
        {
          "output_type": "execute_result",
          "data": {
            "text/plain": [
              "0.65"
            ]
          },
          "metadata": {},
          "execution_count": 15
        }
      ]
    },
    {
      "cell_type": "code",
      "source": [
        "9/4 * (6/8)**-1 - 5/2 * (25/20)**-1 + 40/8 * (20/16)**-1"
      ],
      "metadata": {
        "colab": {
          "base_uri": "https://localhost:8080/"
        },
        "id": "8CLqgi6vGJpu",
        "outputId": "55a80dcc-94b9-429a-b5a0-b0c7d7b7a1c7"
      },
      "execution_count": 17,
      "outputs": [
        {
          "output_type": "execute_result",
          "data": {
            "text/plain": [
              "5.0"
            ]
          },
          "metadata": {},
          "execution_count": 17
        }
      ]
    },
    {
      "cell_type": "code",
      "source": [
        "nombre = input(\"Ingrese su nombre a continuacion: \")\n",
        "peso = float(input(\"Ingrese su peso en kg: \"))\n",
        "talla = float(input(\"Ingrese su talla en metros: \"))\n",
        "\n",
        "imc = peso / (talla ** 2)\n",
        "\n",
        "print(f\"Hola {nombre}, tu IMC es: {imc}\")\n"
      ],
      "metadata": {
        "colab": {
          "base_uri": "https://localhost:8080/"
        },
        "id": "k3T9-yjnG2xZ",
        "outputId": "cf03be4d-401e-4d19-fc25-7c53d1ed90a3"
      },
      "execution_count": 21,
      "outputs": [
        {
          "output_type": "stream",
          "name": "stdout",
          "text": [
            "Ingrese su nombre a continuacion: juan\n",
            "Ingrese su peso en kg: 55\n",
            "Ingrese su talla en metros: 1.19\n",
            "Hola juan, tu IMC es: 38.83906503777982\n"
          ]
        }
      ]
    },
    {
      "cell_type": "code",
      "source": [
        "numero1 = int(input(\"Ingrese el primer numero: \"))\n",
        "numero2 = int(input(\"Ingrese el segundo numero: \"))\n",
        "\n",
        "suma = numero1 + numero2\n",
        "resta = numero1 - numero2\n",
        "multiplicacion = numero1 * numero2\n",
        "division = numero1 / numero2\n",
        "\n",
        "print(f\"La suma de los numeros es: {suma}\")\n",
        "print(f\"La resta de los numeros es: {resta}\")\n",
        "print(f\"La multiplicacion de los numeros es: {multiplicacion}\")\n",
        "print(f\"La division de los numeros es: {division}\")"
      ],
      "metadata": {
        "colab": {
          "base_uri": "https://localhost:8080/"
        },
        "id": "LBsZJd97HTnI",
        "outputId": "7b1e116d-cd0d-4e8b-f971-fe258ccc6791"
      },
      "execution_count": 19,
      "outputs": [
        {
          "output_type": "stream",
          "name": "stdout",
          "text": [
            "Ingrese el primer numero: 8\n",
            "Ingrese el segundo numero: 3\n",
            "La suma de los numeros es: 11\n",
            "La resta de los numeros es: 5\n",
            "La multiplicacion de los numeros es: 24\n",
            "La division de los numeros es: 2.6666666666666665\n"
          ]
        }
      ]
    }
  ]
}