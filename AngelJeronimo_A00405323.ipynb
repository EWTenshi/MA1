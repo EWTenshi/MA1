{
  "nbformat": 4,
  "nbformat_minor": 0,
  "metadata": {
    "colab": {
      "provenance": [],
      "authorship_tag": "ABX9TyMNlAGcCPOCYunuvTRFuol4",
      "include_colab_link": true
    },
    "kernelspec": {
      "name": "python3",
      "display_name": "Python 3"
    },
    "language_info": {
      "name": "python"
    }
  },
  "cells": [
    {
      "cell_type": "markdown",
      "metadata": {
        "id": "view-in-github",
        "colab_type": "text"
      },
      "source": [
        "<a href=\"https://colab.research.google.com/github/EWTenshi/MA1/blob/main/AngelJeronimo_A00405323.ipynb\" target=\"_parent\"><img src=\"https://colab.research.google.com/assets/colab-badge.svg\" alt=\"Open In Colab\"/></a>"
      ]
    },
    {
      "cell_type": "markdown",
      "source": [
        "nombre: Jeronimo Angel Castillo\n",
        "edad: 20\n",
        "ocupacion: Estudiante ingenieria de sistemas\n"
      ],
      "metadata": {
        "id": "NuFfeVIF4Sbz"
      }
    },
    {
      "cell_type": "markdown",
      "source": [
        "1. Pythagoras\n",
        "$$a^2+b^2=c^2$$\n",
        "2. Logarithms\n",
        "$$\\log xy=\\log x + \\log y$$\n",
        "3. calculus\n",
        "$$\\frac{df}{dt}= \\displaystyle \\lim_{h \\to 0} = \\frac{f(t+h)-f(t)}{h}$$\n",
        "4. law of gravity\n",
        "$$F = G\\frac{m_{1}m_{2}}{r^2}$$\n",
        "5. minus one\n",
        "$$i^2 = -1$$\n",
        "6. Euler polyhedra\n",
        "$$V - E + F =2$$\n",
        "7. normal distribution\n",
        "$$\\phi(x)=\\frac{1}{\\sqrt{2\\pi p}}e^{\\frac{(x-\\mu)^2}{2\\sigma^2}}$$\n",
        "8. wave equation\n",
        "$$\\frac{\\partial^2u}{\\partial t^2}=c^2\\frac{\\partial^2 u}{\\partial x^2}$$\n",
        "9. fourier transform\n",
        "$$f(w)= \\int_{\\infty}^{\\infty} f(x)e^{-2\\pi ix \\xi}dx$$\n",
        "10. navier-strokes\n",
        "$$p(\\frac{\\partial v}{\\partial t}+v \\cdot \\bigtriangledown v)= - \\bigtriangledown p+\\bigtriangledown \\cdot T + F$$\n",
        "11. maxwell\n",
        "$$\\bigtriangledown \\cdot E=0$$  $$\\bigtriangledown \\cdot H=0$$  $$\\bigtriangledown \\chi E=-\\frac{1\\partial H}{c\\partial t}$$  $$\\bigtriangledown \\chi H=\\frac{1\\partial E}{c\\partial t}$$\n",
        "12. second law thermodynamic\n",
        "$$dS\\geq 0$$\n",
        "13. relativity\n",
        "$$E=mc^2$$\n",
        "14. schrodinger\n",
        "$$ih\\frac{\\partial}{\\partial t}\\psi = H\\psi$$\n",
        "15. information theory\n",
        "$$H=-\\sum p(x) \\log p(x)$$\n",
        "16. chaos theory\n",
        "$$x_{t+1}=kx_{t}(1-x_{t})$$\n",
        "17. black-scholes\n",
        "$$\\frac{1}{2}\\sigma^2 S^2 \\frac{\\partial^2 V}{\\partial S^2}+ rS\\frac{\\partial V}{\\partial S}+ \\frac{\\partial V}{\\partial t}-rV = 0$$"
      ],
      "metadata": {
        "id": "mcEan5xl4Dcx"
      }
    },
    {
      "cell_type": "code",
      "source": [],
      "metadata": {
        "id": "16amSm8U3BaZ"
      },
      "execution_count": null,
      "outputs": []
    }
  ]
}