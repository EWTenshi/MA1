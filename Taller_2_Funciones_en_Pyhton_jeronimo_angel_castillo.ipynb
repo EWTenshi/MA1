{
  "nbformat": 4,
  "nbformat_minor": 0,
  "metadata": {
    "colab": {
      "provenance": [],
      "authorship_tag": "ABX9TyMo0EwOJmfZPQdUJvEAwFVQ",
      "include_colab_link": true
    },
    "kernelspec": {
      "name": "python3",
      "display_name": "Python 3"
    },
    "language_info": {
      "name": "python"
    }
  },
  "cells": [
    {
      "cell_type": "markdown",
      "metadata": {
        "id": "view-in-github",
        "colab_type": "text"
      },
      "source": [
        "<a href=\"https://colab.research.google.com/github/EWTenshi/MA1/blob/main/Taller_2_Funciones_en_Pyhton_jeronimo_angel_castillo.ipynb\" target=\"_parent\"><img src=\"https://colab.research.google.com/assets/colab-badge.svg\" alt=\"Open In Colab\"/></a>"
      ]
    },
    {
      "cell_type": "markdown",
      "source": [
        "Jeronimo angel castillo - A00405323"
      ],
      "metadata": {
        "id": "xPLhhb6fJLx2"
      }
    },
    {
      "cell_type": "code",
      "execution_count": 36,
      "metadata": {
        "id": "CgIMbCwDIYG3"
      },
      "outputs": [],
      "source": [
        "#importando librerias utilizadas\n",
        "import numpy as np\n",
        "import math"
      ]
    },
    {
      "cell_type": "code",
      "source": [
        "#1\n",
        "cantidadNumeros = input(\"ingrese la cantidad de numeros del arreglo: \")\n",
        "cantidadNumeros = int(cantidadNumeros)\n",
        "numeros = []\n",
        "\n",
        "for i in range(cantidadNumeros):\n",
        "    numero = input(\"ingrese el numero: \")\n",
        "    numeros.append(numero)\n",
        "\n",
        "for i in range(cantidadNumeros):\n",
        "    num = int(numeros[i])\n",
        "    if num % 2 == 0:\n",
        "        print(num)"
      ],
      "metadata": {
        "colab": {
          "base_uri": "https://localhost:8080/"
        },
        "id": "BK9iGHJnJlRU",
        "outputId": "9f95f157-6116-422e-9deb-6e09a1f7daa8"
      },
      "execution_count": null,
      "outputs": [
        {
          "output_type": "stream",
          "name": "stdout",
          "text": [
            "ingrese la cantidad de numeros del arreglo: 10\n",
            "ingrese el numero: 1\n",
            "ingrese el numero: 2\n",
            "ingrese el numero: 3\n",
            "ingrese el numero: 4\n",
            "ingrese el numero: 5\n",
            "ingrese el numero: 6\n",
            "ingrese el numero: 7\n",
            "ingrese el numero: 8\n",
            "ingrese el numero: 9\n",
            "ingrese el numero: 10\n",
            "2\n",
            "4\n",
            "6\n",
            "8\n",
            "10\n"
          ]
        }
      ]
    },
    {
      "source": [
        "#2\n",
        "cantidadNumeros1 = input(\"ingrese la cantidad de numeros del arreglo: \")\n",
        "cantidadNumeros1 = int(cantidadNumeros1)\n",
        "numeros1 = []\n",
        "\n",
        "for i in range(cantidadNumeros1):\n",
        "    numero1 = input(\"ingrese el numero: \")\n",
        "    numeros1.append(numero1)\n",
        "\n",
        "cantidadNumeros2 = input(\"ingrese la cantidad de numeros del arreglo: \")\n",
        "cantidadNumeros2 = int(cantidadNumeros2)\n",
        "numeros2 = []\n",
        "\n",
        "for i in range(cantidadNumeros2):\n",
        "    numero2 = input(\"ingrese el numero: \")\n",
        "    numeros2.append(numero2)\n",
        "\n",
        "comunes = []\n",
        "for i in range(cantidadNumeros1):\n",
        "    for j in range(cantidadNumeros2):\n",
        "        if numeros1[i] == numeros2[j]:\n",
        "            comunes.append(numeros1[i])\n",
        "\n",
        "print(comunes)"
      ],
      "cell_type": "code",
      "metadata": {
        "colab": {
          "base_uri": "https://localhost:8080/"
        },
        "id": "QVl82Q2bOzWM",
        "outputId": "4cc5a7a0-ce49-47a2-cf72-024d57cbeead"
      },
      "execution_count": null,
      "outputs": [
        {
          "output_type": "stream",
          "name": "stdout",
          "text": [
            "ingrese la cantidad de numeros del arreglo: 5\n",
            "ingrese el numero: 1\n",
            "ingrese el numero: 3\n",
            "ingrese el numero: 5\n",
            "ingrese el numero: 8\n",
            "ingrese el numero: 9\n",
            "ingrese la cantidad de numeros del arreglo: 10\n",
            "ingrese el numero: 1\n",
            "ingrese el numero: 2\n",
            "ingrese el numero: 3\n",
            "ingrese el numero: 4\n",
            "ingrese el numero: 5\n",
            "ingrese el numero: 6\n",
            "ingrese el numero: 7\n",
            "ingrese el numero: 8\n",
            "ingrese el numero: 9\n",
            "ingrese el numero: 10\n",
            "['1', '3', '5', '8', '9']\n"
          ]
        }
      ]
    },
    {
      "cell_type": "code",
      "source": [
        "#3\n",
        "def lista_a_matriz_cuadrada(lista_numeros):\n",
        "    longitud = len(lista_numeros)\n",
        "    tamaño = math.sqrt(longitud)\n",
        "\n",
        "    if not tamaño.is_integer():\n",
        "        return \"Error: La cantidad de elementos no permite formar una matriz cuadrada.\"\n",
        "    tamaño = int(tamaño)\n",
        "    matriz = []\n",
        "    for i in range(tamaño):\n",
        "        fila = lista_numeros[i*tamaño : (i+1)*tamaño]\n",
        "        matriz.append(fila)\n",
        "\n",
        "    return matriz\n",
        "\n",
        "lista_numeros = []\n",
        "print(\"Ingrese los números para el arreglo. Escriba 'fin' para terminar.\")\n",
        "\n",
        "while True:\n",
        "    entrada = input(\"Ingrese un número (o 'fin' para terminar): \")\n",
        "\n",
        "    if entrada.lower() == 'fin':\n",
        "        break\n",
        "\n",
        "    try:\n",
        "        numero = float(entrada)\n",
        "        lista_numeros.append(numero)\n",
        "    except ValueError:\n",
        "        print(\"Entrada no válida. Por favor, ingrese un número válido.\")\n",
        "\n",
        "if len(lista_numeros) == 0:\n",
        "    print(\"No se ingresaron números.\")\n",
        "else:\n",
        "    matriz_resultante = lista_a_matriz_cuadrada(lista_numeros)\n",
        "\n",
        "    if isinstance(matriz_resultante, str):\n",
        "        print(matriz_resultante)\n",
        "    else:\n",
        "        print(\"Matriz cuadrada:\")\n",
        "        for i in matriz_resultante:\n",
        "            print(i)"
      ],
      "metadata": {
        "id": "ihUJ1julMX50",
        "colab": {
          "base_uri": "https://localhost:8080/"
        },
        "outputId": "d4171317-e964-44d2-cde2-549ab7f1b4a5"
      },
      "execution_count": 4,
      "outputs": [
        {
          "output_type": "stream",
          "name": "stdout",
          "text": [
            "Ingrese los números para el arreglo. Escriba 'fin' para terminar.\n",
            "Ingrese un número (o 'fin' para terminar): 1\n",
            "Ingrese un número (o 'fin' para terminar): 2\n",
            "Ingrese un número (o 'fin' para terminar): 3\n",
            "Ingrese un número (o 'fin' para terminar): 4\n",
            "Ingrese un número (o 'fin' para terminar): f3\n",
            "Entrada no válida. Por favor, ingrese un número válido.\n",
            "Ingrese un número (o 'fin' para terminar): fin\n",
            "Matriz cuadrada:\n",
            "[1.0, 2.0]\n",
            "[3.0, 4.0]\n"
          ]
        }
      ]
    },
    {
      "cell_type": "code",
      "source": [
        "#4\n",
        "lista_numeros = []\n",
        "print(\"Ingrese los números para el arreglo. Escriba 'fin' para terminar.\")\n",
        "\n",
        "while True:\n",
        "    entrada = input(\"Ingrese un número (o 'fin' para terminar): \")\n",
        "\n",
        "    if entrada.lower() == 'fin':\n",
        "        break\n",
        "\n",
        "    try:\n",
        "        numero = float(entrada)\n",
        "        lista_numeros.append(numero)\n",
        "    except ValueError:\n",
        "        print(\"Entrada no válida. Por favor, ingrese un número válido.\")\n",
        "        continue\n",
        "\n",
        "if len(lista_numeros) == 0:\n",
        "    print(\"No se ingresaron números, no se puede calcular la media, mediana y moda.\")\n",
        "else:\n",
        "    frecuencia = {}\n",
        "    for numero in lista_numeros:\n",
        "        if numero in frecuencia:\n",
        "            frecuencia[numero] += 1\n",
        "        else:\n",
        "            frecuencia[numero] = 1\n",
        "\n",
        "    max_frecuencia = max(frecuencia.values())\n",
        "    modas = [numero for numero, freq in frecuencia.items() if freq == max_frecuencia]\n",
        "\n",
        "    suma = sum(lista_numeros)\n",
        "    cantidad = len(lista_numeros)\n",
        "    media = suma / cantidad\n",
        "\n",
        "    lista_ordenada = sorted(lista_numeros)\n",
        "    n = len(lista_ordenada)\n",
        "    if n % 2 == 1:\n",
        "        mediana = lista_ordenada[n // 2]\n",
        "    else:\n",
        "        mediana = (lista_ordenada[n // 2 - 1] + lista_ordenada[n // 2]) / 2\n",
        "\n",
        "\n",
        "    print(\"\\nResultados:\")\n",
        "    print(f\"Media: {media}\")\n",
        "    print(f\"Mediana: {mediana}\")\n",
        "    if len(modas) == 1:\n",
        "       print(f\"Moda: {modas[0]}\")\n",
        "    else:\n",
        "       print(f\"Modas: {', '.join(map(str, modas))}\")"
      ],
      "metadata": {
        "colab": {
          "base_uri": "https://localhost:8080/"
        },
        "id": "rUL5zSDQ3MXe",
        "outputId": "17bd3ae5-3ade-4eb9-fd69-b78159e15097"
      },
      "execution_count": 25,
      "outputs": [
        {
          "output_type": "stream",
          "name": "stdout",
          "text": [
            "Ingrese los números para el arreglo. Escriba 'fin' para terminar.\n",
            "Ingrese un número (o 'fin' para terminar): 1\n",
            "Ingrese un número (o 'fin' para terminar): 1\n",
            "Ingrese un número (o 'fin' para terminar): 2\n",
            "Ingrese un número (o 'fin' para terminar): 3\n",
            "Ingrese un número (o 'fin' para terminar): fin\n",
            "\n",
            "Resultados:\n",
            "Media: 1.75\n",
            "Mediana: 1.5\n",
            "Moda: 1.0\n"
          ]
        }
      ]
    },
    {
      "source": [
        "#5\n",
        "cantidad_productos = int(input(\"Ingrese la cantidad de productos: \"))\n",
        "\n",
        "productos = []\n",
        "precios = []\n",
        "\n",
        "for i in range(cantidad_productos):\n",
        "    producto = input(f\"Ingrese el nombre del producto {i + 1}: \")\n",
        "    precio = float(input(f\"Ingrese el precio del producto {i + 1}: \"))\n",
        "    productos.append(producto)\n",
        "    precios.append(precio)\n",
        "\n",
        "suma = 0\n",
        "\n",
        "for j in range(cantidad_productos):\n",
        "    suma += precios[j]\n",
        "\n",
        "if suma > 100:\n",
        "    suma -= (suma * 10)/100\n",
        "\n",
        "print(f\"El total de la compra es: {suma}\")"
      ],
      "cell_type": "code",
      "metadata": {
        "colab": {
          "base_uri": "https://localhost:8080/"
        },
        "id": "oIBAnTUW9Uxa",
        "outputId": "52eac4f2-0722-4ec5-ad8e-ee4727bce45d"
      },
      "execution_count": 22,
      "outputs": [
        {
          "output_type": "stream",
          "name": "stdout",
          "text": [
            "Ingrese la cantidad de productos: 1\n",
            "Ingrese el nombre del producto 1: leche\n",
            "Ingrese el precio del producto 1: 200\n",
            "El total de la compra es: 180.0\n"
          ]
        }
      ]
    },
    {
      "source": [
        "#6\n",
        "inventario = []\n",
        "print(\"Ingrese los productos en inventario. Escriba 'fin' para terminar.\")\n",
        "\n",
        "while True:\n",
        "    producto = input(\"Ingrese un producto en inventario (o 'fin' para terminar): \")\n",
        "\n",
        "    if producto.lower() == 'fin':\n",
        "        break\n",
        "\n",
        "    inventario.append(producto)\n",
        "\n",
        "vendidos = []\n",
        "print(\"\\nIngrese los productos vendidos. Escriba 'fin' para terminar.\")\n",
        "\n",
        "while True:\n",
        "    producto_vendido = input(\"Ingrese un producto vendido (o 'fin' para terminar): \")\n",
        "\n",
        "    if producto_vendido.lower() == 'fin':\n",
        "        break\n",
        "\n",
        "    vendidos.append(producto_vendido)\n",
        "\n",
        "inventario_actualizado = [producto for producto in inventario if producto not in vendidos]\n",
        "\n",
        "print(\"\\nInventario actualizado:\")\n",
        "if inventario_actualizado:\n",
        "    for producto in inventario_actualizado:\n",
        "        print(f\"- {producto}\")\n",
        "else:\n",
        "    print(\"No quedan productos en inventario.\")"
      ],
      "cell_type": "code",
      "metadata": {
        "colab": {
          "base_uri": "https://localhost:8080/"
        },
        "id": "1LcatVTQ50et",
        "outputId": "f0d53d8f-6007-43aa-ec9a-54571ab4545f"
      },
      "execution_count": 42,
      "outputs": [
        {
          "output_type": "stream",
          "name": "stdout",
          "text": [
            "Ingrese los productos en inventario. Escriba 'fin' para terminar.\n",
            "Ingrese un producto en inventario (o 'fin' para terminar): leche\n",
            "Ingrese un producto en inventario (o 'fin' para terminar): pan\n",
            "Ingrese un producto en inventario (o 'fin' para terminar): huevos\n",
            "Ingrese un producto en inventario (o 'fin' para terminar): fin\n",
            "\n",
            "Ingrese los productos vendidos. Escriba 'fin' para terminar.\n",
            "Ingrese un producto vendido (o 'fin' para terminar): leche\n",
            "Ingrese un producto vendido (o 'fin' para terminar): huevos\n",
            "Ingrese un producto vendido (o 'fin' para terminar): fin\n",
            "\n",
            "Inventario actualizado:\n",
            "- pan\n"
          ]
        }
      ]
    },
    {
      "cell_type": "code",
      "source": [
        "#7\n",
        "temperaturas = []\n",
        "print(\"Ingrese las temperaturas de los 7 días de la semana (en °C):\")\n",
        "\n",
        "for i in range(1, 8):\n",
        "    while True:\n",
        "        try:\n",
        "            temperatura = float(input(f\"Temperatura del día {i}: \"))\n",
        "            temperaturas.append(temperatura)\n",
        "            break\n",
        "        except ValueError:\n",
        "            print(\"Entrada no válida. Por favor, ingrese un número válido.\")\n",
        "\n",
        "dias_arriba_30 = 0\n",
        "dias_entre_20_y_30 = 0\n",
        "dias_abajo_20 = 0\n",
        "\n",
        "for j in temperaturas:\n",
        "    if j > 30:\n",
        "        dias_arriba_30 += 1\n",
        "    elif 20 <= j <= 30:\n",
        "        dias_entre_20_y_30 += 1\n",
        "    else:\n",
        "        dias_abajo_20 += 1\n",
        "\n",
        "print(\"\\nResultados:\")\n",
        "print(f\"Días con temperatura por encima de 30°C: {dias_arriba_30}\")\n",
        "print(f\"Días con temperatura entre 20°C y 30°C: {dias_entre_20_y_30}\")\n",
        "print(f\"Días con temperatura por debajo de 20°C: {dias_abajo_20}\")"
      ],
      "metadata": {
        "colab": {
          "base_uri": "https://localhost:8080/"
        },
        "id": "BI6Otl2F6-6w",
        "outputId": "20a54129-754d-48dd-aa60-a29d3567756e"
      },
      "execution_count": 26,
      "outputs": [
        {
          "output_type": "stream",
          "name": "stdout",
          "text": [
            "Ingrese las temperaturas de los 7 días de la semana (en °C):\n",
            "Temperatura del día 1: 20\n",
            "Temperatura del día 2: 27\n",
            "Temperatura del día 3: 40\n",
            "Temperatura del día 4: 32\n",
            "Temperatura del día 5: 25\n",
            "Temperatura del día 6: 26\n",
            "Temperatura del día 7: 28\n",
            "\n",
            "Resultados:\n",
            "Días con temperatura por encima de 30°C: 2\n",
            "Días con temperatura entre 20°C y 30°C: 5\n",
            "Días con temperatura por debajo de 20°C: 0\n"
          ]
        }
      ]
    },
    {
      "cell_type": "code",
      "source": [
        "#8\n",
        "alimentos = int(input(\"Ingrese la cantidad de alimentos: \"))\n",
        "calorias = [alimentos]\n",
        "for i in range(alimentos):\n",
        "    caloria = int(input(f\"Ingrese la cantidad de calorias del alimento {i + 1}: \"))\n",
        "    calorias.append(caloria)\n",
        "\n",
        "total_calorias = sum(calorias)\n",
        "print(f\"El total de calorias es: {total_calorias}\")\n",
        "\n",
        "if total_calorias>2000:\n",
        "    print(\"El consumo de calorias es alto\")"
      ],
      "metadata": {
        "colab": {
          "base_uri": "https://localhost:8080/"
        },
        "id": "JZpWUjgbBeCY",
        "outputId": "8b750ee9-a2f4-4e43-e545-36d237c8f7a7"
      },
      "execution_count": 29,
      "outputs": [
        {
          "output_type": "stream",
          "name": "stdout",
          "text": [
            "Ingrese la cantidad de alimentos: 3\n",
            "Ingrese la cantidad de calorias del alimento 1: 1000\n",
            "Ingrese la cantidad de calorias del alimento 2: 1500\n",
            "Ingrese la cantidad de calorias del alimento 3: 300\n",
            "El total de calorias es: 2803\n",
            "El consumo de calorias es alto\n"
          ]
        }
      ]
    },
    {
      "cell_type": "code",
      "source": [
        "#9\n",
        "ventas = []\n",
        "\n",
        "for i in range(0,12):\n",
        "    while True:\n",
        "        try:\n",
        "            venta = float(input(f\"Ingrese la venta del mes {i+1}: \"))\n",
        "            ventas.append(venta)\n",
        "            break\n",
        "        except ValueError:\n",
        "            print(\"Entrada no válida. Por favor, ingrese un número válido.\")\n",
        "\n",
        "promedio = sum(ventas) / len(ventas)\n",
        "\n",
        "print(f\"Promedio de ventas: {promedio}\")\n",
        "\n",
        "meses_mayores_promedio = 0\n",
        "for i in range(len(ventas)):\n",
        "    if ventas[i] > promedio:\n",
        "        meses_mayores_promedio += 1\n",
        "\n",
        "print(f\"Meses con ventas por encima del promedio: {meses_mayores_promedio}\")"
      ],
      "metadata": {
        "colab": {
          "base_uri": "https://localhost:8080/"
        },
        "id": "oZkHzz8IJMfW",
        "outputId": "f1be60bf-7cd6-4163-ad11-5ccb9591146d"
      },
      "execution_count": 41,
      "outputs": [
        {
          "output_type": "stream",
          "name": "stdout",
          "text": [
            "Ingrese la venta del mes 1: 23\n",
            "Ingrese la venta del mes 2: 15\n",
            "Ingrese la venta del mes 3: 13\n",
            "Ingrese la venta del mes 4: 14\n",
            "Ingrese la venta del mes 5: 8\n",
            "Ingrese la venta del mes 6: 7\n",
            "Ingrese la venta del mes 7: 1\n",
            "Ingrese la venta del mes 8: 9\n",
            "Ingrese la venta del mes 9: 33\n",
            "Ingrese la venta del mes 10: 19\n",
            "Ingrese la venta del mes 11: 22\n",
            "Ingrese la venta del mes 12: 11\n",
            "Promedio de ventas: 14.583333333333334\n",
            "Meses con ventas por encima del promedio: 5\n"
          ]
        }
      ]
    },
    {
      "cell_type": "code",
      "source": [
        "#10\n",
        "total_compra = int(input(\"Ingrese el total de la compra: \"))\n",
        "\n",
        "if total_compra > 50 and total_compra < 100:\n",
        "  total_compra -= (total_compra * 5)/100\n",
        "  print(\"se ha aplicado un descuento del 5%\")\n",
        "elif total_compra > 100 and total_compra < 200:\n",
        "  total_compra -= (total_compra * 10)/100\n",
        "  print(\"se ha aplicado un descuento del 10%\")\n",
        "elif total_compra > 200:\n",
        "    total_compra -= (total_compra * 15)/100\n",
        "    print(\"se ha aplicado un descuento del 15%\")\n",
        "\n",
        "print(f\"El total a pagar es: {total_compra}\")"
      ],
      "metadata": {
        "colab": {
          "base_uri": "https://localhost:8080/"
        },
        "id": "WB3KcyJ6Clrm",
        "outputId": "9cf137f4-843d-48b1-b4e7-fb08d22076f4"
      },
      "execution_count": 32,
      "outputs": [
        {
          "output_type": "stream",
          "name": "stdout",
          "text": [
            "Ingrese el total de la compra: 250\n",
            "se ha aplicado un descuento del 15%\n",
            "El total a pagar es: 212.5\n"
          ]
        }
      ]
    },
    {
      "cell_type": "code",
      "source": [
        "#11\n",
        "nombres = []\n",
        "edades = []\n",
        "print(\"Ingrese los nombres y edades de los pacientes. Escriba 'fin' para terminar.\")\n",
        "\n",
        "while True:\n",
        "    nombre = input(\"Ingrese el nombre del paciente (o 'fin' para terminar): \")\n",
        "\n",
        "    if nombre.lower() == 'fin':\n",
        "        break\n",
        "\n",
        "    try:\n",
        "        edad = int(input(f\"Ingrese la edad de {nombre}: \"))\n",
        "        nombres.append(nombre)\n",
        "        edades.append(edad)\n",
        "    except ValueError:\n",
        "        print(\"Entrada no válida. Por favor, ingrese una edad válida (número entero).\")\n",
        "\n",
        "    pacientes_prioritarios = []\n",
        "    for i in range(len(nombres)):\n",
        "        if edades[i] > 60:\n",
        "            pacientes_prioritarios.append(nombres[i])\n",
        "\n",
        "if len(pacientes_prioritarios) > 0:\n",
        "    print(\"\\nPacientes que requieren atención prioritaria (mayores de 60 años):\")\n",
        "for paciente in pacientes_prioritarios:\n",
        "    print(f\"- {paciente}\")\n",
        "else:\n",
        "    print(\"\\nNo hay pacientes que requieran atención prioritaria.\")"
      ],
      "metadata": {
        "colab": {
          "base_uri": "https://localhost:8080/"
        },
        "id": "UeAf0pxtEjUt",
        "outputId": "3e2b921e-661f-4265-c90a-ac4109722834"
      },
      "execution_count": 34,
      "outputs": [
        {
          "output_type": "stream",
          "name": "stdout",
          "text": [
            "Ingrese los nombres y edades de los pacientes. Escriba 'fin' para terminar.\n",
            "Ingrese el nombre del paciente (o 'fin' para terminar): juan\n",
            "Ingrese la edad de juan: 80\n",
            "Ingrese el nombre del paciente (o 'fin' para terminar): maria\n",
            "Ingrese la edad de maria: 26\n",
            "Ingrese el nombre del paciente (o 'fin' para terminar): antonio\n",
            "Ingrese la edad de antonio: 63\n",
            "Ingrese el nombre del paciente (o 'fin' para terminar): jose\n",
            "Ingrese la edad de jose: 44\n",
            "Ingrese el nombre del paciente (o 'fin' para terminar): fin\n",
            "\n",
            "Pacientes que requieren atención prioritaria (mayores de 60 años):\n",
            "- juan\n",
            "- antonio\n",
            "\n",
            "No hay pacientes que requieran atención prioritaria.\n"
          ]
        }
      ]
    },
    {
      "cell_type": "code",
      "source": [
        "#12\n",
        "gasto_alquiler = int(input(\"Ingrese el gasto total en alquiler: \"))\n",
        "gasto_alimentacion = int(input(\"Ingrese el gasto total en alimentación: \"))\n",
        "gasto_transporte = int(input(\"Ingrese el gasto total en transporte: \"))\n",
        "gasto_luz = int(input(\"Ingrese el gasto total en luz: \"))\n",
        "gasto_agua = int(input(\"Ingrese el gasto total en agua: \"))\n",
        "\n",
        "if gasto_alquiler > gasto_alimentacion and gasto_alquiler > gasto_transporte and gasto_alquiler > gasto_luz and gasto_alquiler > gasto_agua:\n",
        "  print(f\"El gasto en alquiler es el más alto con un valor de: {gasto_alquiler}\")\n",
        "elif gasto_alimentacion > gasto_alquiler and gasto_alimentacion > gasto_transporte and gasto_alimentacion > gasto_luz and gasto_alimentacion > gasto_agua:\n",
        "  print(f\"El gasto en alimentacion es el más alto con un valor de: {gasto_alimentacion}\")\n",
        "elif gasto_transporte > gasto_alquiler and gasto_transporte > gasto_alimentacion and gasto_transporte > gasto_luz and gasto_transporte > gasto_agua:\n",
        "  print(f\"El gasto en transporte es el más alto con un valor de: {gasto_transporte}\")\n",
        "elif gasto_luz > gasto_alquiler and gasto_luz > gasto_alimentacion and gasto_luz > gasto_transporte and gasto_luz > gasto_agua:\n",
        "  print(f\"El gasto en luz es el más alto con un valor de: {gasto_luz}\")"
      ],
      "metadata": {
        "colab": {
          "base_uri": "https://localhost:8080/"
        },
        "id": "hVmuXsPlFAWz",
        "outputId": "89150403-5e0e-409e-93e9-b14f466ce7bf"
      },
      "execution_count": 35,
      "outputs": [
        {
          "output_type": "stream",
          "name": "stdout",
          "text": [
            "Ingrese el gasto total en alquiler: 300\n",
            "Ingrese el gasto total en alimentación: 200\n",
            "Ingrese el gasto total en transporte: 150\n",
            "Ingrese el gasto total en luz: 800\n",
            "Ingrese el gasto total en agua: 120\n",
            "El gasto en luz es el más alto con un valor de: 800\n"
          ]
        }
      ]
    }
  ]
}