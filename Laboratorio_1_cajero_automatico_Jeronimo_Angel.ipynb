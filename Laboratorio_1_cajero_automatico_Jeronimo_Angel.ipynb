{
  "nbformat": 4,
  "nbformat_minor": 0,
  "metadata": {
    "colab": {
      "provenance": [],
      "authorship_tag": "ABX9TyMxFzACE8ou6lt0hOswSp+e",
      "include_colab_link": true
    },
    "kernelspec": {
      "name": "python3",
      "display_name": "Python 3"
    },
    "language_info": {
      "name": "python"
    }
  },
  "cells": [
    {
      "cell_type": "markdown",
      "metadata": {
        "id": "view-in-github",
        "colab_type": "text"
      },
      "source": [
        "<a href=\"https://colab.research.google.com/github/EWTenshi/MA1/blob/main/Laboratorio_1_cajero_automatico_Jeronimo_Angel.ipynb\" target=\"_parent\"><img src=\"https://colab.research.google.com/assets/colab-badge.svg\" alt=\"Open In Colab\"/></a>"
      ]
    },
    {
      "cell_type": "markdown",
      "source": [
        "Jeronimo angel castillo - A00405323\n",
        "\n",
        "Descripcion: Este proyecto simula el funcionamiento de un cajero automatico usando unicamente bucles y condicionales, se importa unicamente la libreria \"sys\" de python para darle fin al programa\n",
        "\n",
        "\n",
        "\n",
        "\n",
        "contrasena del sistema: 0000\n",
        "\n",
        "saldo inicial registrado en el sistema: 1000000\n"
      ],
      "metadata": {
        "id": "Y_uOfJynNYry"
      }
    },
    {
      "cell_type": "code",
      "source": [
        "import sys"
      ],
      "metadata": {
        "id": "R2k9a9MSM8iA"
      },
      "execution_count": 1,
      "outputs": []
    },
    {
      "cell_type": "code",
      "execution_count": 3,
      "metadata": {
        "colab": {
          "base_uri": "https://localhost:8080/",
          "height": 1000
        },
        "id": "HaWwaUlPz3_z",
        "outputId": "41d4e4a0-babe-43a7-e513-a2c694159d8f"
      },
      "outputs": [
        {
          "output_type": "stream",
          "name": "stdout",
          "text": [
            "Bienvenido al cajero, por favor ingrese su contrasena para ingrsar (0000) : 1\n",
            "contrasena incorrecta\n",
            "Bienvenido al cajero, por favor ingrese su contrasena para ingrsar (0000) : 0000\n",
            "bienvenido USER que desea hacer hoy?\n",
            "1. Consultar saldo\n",
            "2. Depositar\n",
            "3. Retirar\n",
            "4. Transferir dinero\n",
            "5. Cerrar sistema\n",
            "Ingrese una opcion: 1\n",
            "Su saldo es:  1000000\n",
            "desea continuar?\n",
            "1. SI\n",
            "2. NO\n",
            "Ingrese una opcion: 1\n",
            "bienvenido USER que desea hacer hoy?\n",
            "1. Consultar saldo\n",
            "2. Depositar\n",
            "3. Retirar\n",
            "4. Transferir dinero\n",
            "5. Cerrar sistema\n",
            "Ingrese una opcion: 2\n",
            "Por favor ingrese el saldo a depositar:25000000\n",
            "Su nuevo saldo es:  26000000\n",
            "desea continuar?\n",
            "1. SI\n",
            "2. NO\n",
            "Ingrese una opcion: 2\n",
            "Bienvenido al cajero, por favor ingrese su contrasena para ingrsar (0000) : 0000\n",
            "bienvenido USER que desea hacer hoy?\n",
            "1. Consultar saldo\n",
            "2. Depositar\n",
            "3. Retirar\n",
            "4. Transferir dinero\n",
            "5. Cerrar sistema\n",
            "Ingrese una opcion: 3\n",
            "Porfavor ingrese el valor a retirar: \n",
            "Ingrese el valor a retirar:1000000\n",
            "Su nuevo saldo es:  25000000\n",
            "desea continuar?\n",
            "1. SI\n",
            "2. NO\n",
            "Ingrese una opcion: 1\n",
            "bienvenido USER que desea hacer hoy?\n",
            "1. Consultar saldo\n",
            "2. Depositar\n",
            "3. Retirar\n",
            "4. Transferir dinero\n",
            "5. Cerrar sistema\n",
            "Ingrese una opcion: 4\n",
            "Porfavor digite el numero de la cuenta a transferir el valor: 23523412\n",
            "Porfavor digite el valor a transferir: 30000000\n",
            "No tiene saldo suficiente\n",
            "bienvenido USER que desea hacer hoy?\n",
            "1. Consultar saldo\n",
            "2. Depositar\n",
            "3. Retirar\n",
            "4. Transferir dinero\n",
            "5. Cerrar sistema\n",
            "Ingrese una opcion: 4\n",
            "Porfavor digite el numero de la cuenta a transferir el valor: 23523412\n",
            "Porfavor digite el valor a transferir: 25000000\n",
            "Su nuevo saldo es:  0\n",
            "desea continuar?\n",
            "1. SI\n",
            "2. NO\n",
            "Ingrese una opcion: 1\n",
            "bienvenido USER que desea hacer hoy?\n",
            "1. Consultar saldo\n",
            "2. Depositar\n",
            "3. Retirar\n",
            "4. Transferir dinero\n",
            "5. Cerrar sistema\n",
            "Ingrese una opcion: 5\n",
            "Cerrando el sistema, gracias por usar nuestros servicios\n"
          ]
        },
        {
          "output_type": "error",
          "ename": "SystemExit",
          "evalue": "",
          "traceback": [
            "An exception has occurred, use %tb to see the full traceback.\n",
            "\u001b[0;31mSystemExit\u001b[0m\n"
          ]
        }
      ],
      "source": [
        "init = True\n",
        "pasw = \"0000\"\n",
        "saldo = 1000000\n",
        "menu = \"0\"\n",
        "while init == True:\n",
        "  inicio = input(\"Bienvenido al cajero, por favor ingrese su contraseña para ingrsar (0000) : \")\n",
        "  if inicio == pasw:\n",
        "    while inicio == pasw:\n",
        "      print(\"bienvenido USER que desea hacer hoy?\")\n",
        "      print(\"1. Consultar saldo\")\n",
        "      print(\"2. Depositar\")\n",
        "      print(\"3. Retirar\")\n",
        "      print(\"4. Transferir dinero\")\n",
        "      print(\"5. Cerrar sistema\")\n",
        "      menu = input(\"Ingrese una opcion: \")\n",
        "      if menu == \"1\":\n",
        "        print(\"Su saldo es: \", saldo)\n",
        "        print(\"desea continuar?\")\n",
        "        print(\"1. SI\")\n",
        "        print(\"2. NO\")\n",
        "        condicional = input(\"Ingrese una opcion: \")\n",
        "        if condicional == \"2\":\n",
        "          inicio = \"na\"\n",
        "        else: continue\n",
        "      elif menu == \"2\":\n",
        "        depositar = input(\"Por favor ingrese el saldo a depositar:\")\n",
        "        saldo = saldo + int(depositar)\n",
        "        print(\"Su nuevo saldo es: \", saldo)\n",
        "        print(\"desea continuar?\")\n",
        "        print(\"1. SI\")\n",
        "        print(\"2. NO\")\n",
        "        condicional = input(\"Ingrese una opcion: \")\n",
        "        if condicional == \"2\":\n",
        "          inicio = \"na\"\n",
        "      elif menu == \"3\":\n",
        "        print(\"Porfavor ingrese el valor a retirar: \")\n",
        "        retirar = input(\"Ingrese el valor a retirar:\" )\n",
        "        if int(retirar) > saldo:\n",
        "          print(\"No tiene saldo suficiente\")\n",
        "          continue\n",
        "        saldo = saldo - int(retirar)\n",
        "        print(\"Su nuevo saldo es: \", saldo)\n",
        "        print(\"desea continuar?\")\n",
        "        print(\"1. SI\")\n",
        "        print(\"2. NO\")\n",
        "        condicional = input(\"Ingrese una opcion: \")\n",
        "        if condicional == \"2\":\n",
        "          inicio = \"na\"\n",
        "      elif menu == \"4\":\n",
        "        cuenta = input(\"Porfavor digite el numero de la cuenta a transferir el valor: \")\n",
        "        valor = input(\"Porfavor digite el valor a transferir: \")\n",
        "        if int(valor) > saldo:\n",
        "          print(\"No tiene saldo suficiente\")\n",
        "          continue\n",
        "        saldo = saldo - int(valor)\n",
        "        print(\"Su nuevo saldo es: \", saldo)\n",
        "        print(\"desea continuar?\")\n",
        "        print(\"1. SI\")\n",
        "        print(\"2. NO\")\n",
        "        condicional = input(\"Ingrese una opcion: \")\n",
        "        if condicional == \"2\":\n",
        "          inicio = \"na\"\n",
        "      elif menu == \"5\":\n",
        "        print(\"Cerrando el sistema, gracias por usar nuestros servicios\")\n",
        "        sys.exit()\n",
        "      else:\n",
        "          print(\"Ha ingresado una opcion incorrecta\")\n",
        "\n",
        "\n",
        "  else: print(\"contrasena incorrecta\")\n"
      ]
    }
  ]
}